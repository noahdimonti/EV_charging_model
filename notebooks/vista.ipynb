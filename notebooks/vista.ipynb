{
 "cells": [
  {
   "cell_type": "code",
   "id": "initial_id",
   "metadata": {
    "collapsed": true,
    "ExecuteTime": {
     "end_time": "2024-11-18T00:34:03.562018Z",
     "start_time": "2024-11-18T00:34:02.697737Z"
    }
   },
   "source": [
    "import pandas as pd\n",
    "import numpy as np\n",
    "import matplotlib.pyplot as plt\n",
    "import os\n",
    "\n",
    "directory = '/Users/noahdimonti/Documents/Uni/MPhil in Eng and CS/EV Apartment Building Project/Modelling Data/Potential Datasets/vista'\n",
    "file_name = 'T_VISTA1218_V1.csv'\n",
    "file_path = os.path.join(directory, file_name)\n",
    "df = pd.read_csv(file_path)\n",
    "df.head()"
   ],
   "outputs": [
    {
     "name": "stderr",
     "output_type": "stream",
     "text": [
      "/var/folders/5g/f459qk8s5ql55568q_c08sxr0000gn/T/ipykernel_40138/1793465655.py:9: DtypeWarning: Columns (10,34,35,36,57) have mixed types. Specify dtype option on import or set low_memory=False.\n",
      "  df = pd.read_csv(file_path)\n"
     ]
    },
    {
     "data": {
      "text/plain": [
       "              TRIPID          PERSID         HHID  STOPS  TRIPNO  STARTHOUR  \\\n",
       "0  Y12H0000101P01T01  Y12H0000101P01  Y12H0000101      1       1          8   \n",
       "1  Y12H0000101P01T02  Y12H0000101P01  Y12H0000101      1       2         17   \n",
       "2  Y12H0000101P02T01  Y12H0000101P02  Y12H0000101      1       1          8   \n",
       "3  Y12H0000101P02T02  Y12H0000101P02  Y12H0000101      1       2          9   \n",
       "4  Y12H0000101P02T03  Y12H0000101P02  Y12H0000101      1       3         10   \n",
       "\n",
       "   STARTIME  ARRHOUR  ARRTIME  CUMDIST  ... TIME2  TIME3  TIME4  TIME5  TIME6  \\\n",
       "0       525        9      545     7.45  ...   NaN    NaN    NaN    NaN    NaN   \n",
       "1      1050       17     1075     7.45  ...   NaN    NaN    NaN    NaN    NaN   \n",
       "2       500        8      520     3.92  ...   NaN    NaN    NaN    NaN    NaN   \n",
       "3       540        9      550     2.50  ...   NaN    NaN    NaN    NaN    NaN   \n",
       "4       600       10      610     2.55  ...   NaN    NaN    NaN    NaN    NaN   \n",
       "\n",
       "   TIME7 TIME8 TIME9 WDTRIPWGT WETRIPWGT  \n",
       "0    NaN   NaN   NaN     97.79       NaN  \n",
       "1    NaN   NaN   NaN     97.79       NaN  \n",
       "2    NaN   NaN   NaN     92.98       NaN  \n",
       "3    NaN   NaN   NaN     92.98       NaN  \n",
       "4    NaN   NaN   NaN     92.98       NaN  \n",
       "\n",
       "[5 rows x 59 columns]"
      ],
      "text/html": [
       "<div>\n",
       "<style scoped>\n",
       "    .dataframe tbody tr th:only-of-type {\n",
       "        vertical-align: middle;\n",
       "    }\n",
       "\n",
       "    .dataframe tbody tr th {\n",
       "        vertical-align: top;\n",
       "    }\n",
       "\n",
       "    .dataframe thead th {\n",
       "        text-align: right;\n",
       "    }\n",
       "</style>\n",
       "<table border=\"1\" class=\"dataframe\">\n",
       "  <thead>\n",
       "    <tr style=\"text-align: right;\">\n",
       "      <th></th>\n",
       "      <th>TRIPID</th>\n",
       "      <th>PERSID</th>\n",
       "      <th>HHID</th>\n",
       "      <th>STOPS</th>\n",
       "      <th>TRIPNO</th>\n",
       "      <th>STARTHOUR</th>\n",
       "      <th>STARTIME</th>\n",
       "      <th>ARRHOUR</th>\n",
       "      <th>ARRTIME</th>\n",
       "      <th>CUMDIST</th>\n",
       "      <th>...</th>\n",
       "      <th>TIME2</th>\n",
       "      <th>TIME3</th>\n",
       "      <th>TIME4</th>\n",
       "      <th>TIME5</th>\n",
       "      <th>TIME6</th>\n",
       "      <th>TIME7</th>\n",
       "      <th>TIME8</th>\n",
       "      <th>TIME9</th>\n",
       "      <th>WDTRIPWGT</th>\n",
       "      <th>WETRIPWGT</th>\n",
       "    </tr>\n",
       "  </thead>\n",
       "  <tbody>\n",
       "    <tr>\n",
       "      <th>0</th>\n",
       "      <td>Y12H0000101P01T01</td>\n",
       "      <td>Y12H0000101P01</td>\n",
       "      <td>Y12H0000101</td>\n",
       "      <td>1</td>\n",
       "      <td>1</td>\n",
       "      <td>8</td>\n",
       "      <td>525</td>\n",
       "      <td>9</td>\n",
       "      <td>545</td>\n",
       "      <td>7.45</td>\n",
       "      <td>...</td>\n",
       "      <td>NaN</td>\n",
       "      <td>NaN</td>\n",
       "      <td>NaN</td>\n",
       "      <td>NaN</td>\n",
       "      <td>NaN</td>\n",
       "      <td>NaN</td>\n",
       "      <td>NaN</td>\n",
       "      <td>NaN</td>\n",
       "      <td>97.79</td>\n",
       "      <td>NaN</td>\n",
       "    </tr>\n",
       "    <tr>\n",
       "      <th>1</th>\n",
       "      <td>Y12H0000101P01T02</td>\n",
       "      <td>Y12H0000101P01</td>\n",
       "      <td>Y12H0000101</td>\n",
       "      <td>1</td>\n",
       "      <td>2</td>\n",
       "      <td>17</td>\n",
       "      <td>1050</td>\n",
       "      <td>17</td>\n",
       "      <td>1075</td>\n",
       "      <td>7.45</td>\n",
       "      <td>...</td>\n",
       "      <td>NaN</td>\n",
       "      <td>NaN</td>\n",
       "      <td>NaN</td>\n",
       "      <td>NaN</td>\n",
       "      <td>NaN</td>\n",
       "      <td>NaN</td>\n",
       "      <td>NaN</td>\n",
       "      <td>NaN</td>\n",
       "      <td>97.79</td>\n",
       "      <td>NaN</td>\n",
       "    </tr>\n",
       "    <tr>\n",
       "      <th>2</th>\n",
       "      <td>Y12H0000101P02T01</td>\n",
       "      <td>Y12H0000101P02</td>\n",
       "      <td>Y12H0000101</td>\n",
       "      <td>1</td>\n",
       "      <td>1</td>\n",
       "      <td>8</td>\n",
       "      <td>500</td>\n",
       "      <td>8</td>\n",
       "      <td>520</td>\n",
       "      <td>3.92</td>\n",
       "      <td>...</td>\n",
       "      <td>NaN</td>\n",
       "      <td>NaN</td>\n",
       "      <td>NaN</td>\n",
       "      <td>NaN</td>\n",
       "      <td>NaN</td>\n",
       "      <td>NaN</td>\n",
       "      <td>NaN</td>\n",
       "      <td>NaN</td>\n",
       "      <td>92.98</td>\n",
       "      <td>NaN</td>\n",
       "    </tr>\n",
       "    <tr>\n",
       "      <th>3</th>\n",
       "      <td>Y12H0000101P02T02</td>\n",
       "      <td>Y12H0000101P02</td>\n",
       "      <td>Y12H0000101</td>\n",
       "      <td>1</td>\n",
       "      <td>2</td>\n",
       "      <td>9</td>\n",
       "      <td>540</td>\n",
       "      <td>9</td>\n",
       "      <td>550</td>\n",
       "      <td>2.50</td>\n",
       "      <td>...</td>\n",
       "      <td>NaN</td>\n",
       "      <td>NaN</td>\n",
       "      <td>NaN</td>\n",
       "      <td>NaN</td>\n",
       "      <td>NaN</td>\n",
       "      <td>NaN</td>\n",
       "      <td>NaN</td>\n",
       "      <td>NaN</td>\n",
       "      <td>92.98</td>\n",
       "      <td>NaN</td>\n",
       "    </tr>\n",
       "    <tr>\n",
       "      <th>4</th>\n",
       "      <td>Y12H0000101P02T03</td>\n",
       "      <td>Y12H0000101P02</td>\n",
       "      <td>Y12H0000101</td>\n",
       "      <td>1</td>\n",
       "      <td>3</td>\n",
       "      <td>10</td>\n",
       "      <td>600</td>\n",
       "      <td>10</td>\n",
       "      <td>610</td>\n",
       "      <td>2.55</td>\n",
       "      <td>...</td>\n",
       "      <td>NaN</td>\n",
       "      <td>NaN</td>\n",
       "      <td>NaN</td>\n",
       "      <td>NaN</td>\n",
       "      <td>NaN</td>\n",
       "      <td>NaN</td>\n",
       "      <td>NaN</td>\n",
       "      <td>NaN</td>\n",
       "      <td>92.98</td>\n",
       "      <td>NaN</td>\n",
       "    </tr>\n",
       "  </tbody>\n",
       "</table>\n",
       "<p>5 rows × 59 columns</p>\n",
       "</div>"
      ]
     },
     "execution_count": 28,
     "metadata": {},
     "output_type": "execute_result"
    }
   ],
   "execution_count": 28
  },
  {
   "metadata": {
    "ExecuteTime": {
     "end_time": "2024-11-18T00:24:45.848437Z",
     "start_time": "2024-11-18T00:24:45.809333Z"
    }
   },
   "cell_type": "code",
   "source": [
    "df = df[['HHID', 'STARTHOUR', 'STARTIME', 'ARRHOUR', 'ARRTIME', 'CUMDIST', 'DEPHOUR', 'DEPTIME']]\n",
    "df.loc[df['HHID'] == 'Y12H0000104']"
   ],
   "id": "2cea702cdeed8161",
   "outputs": [
    {
     "data": {
      "text/plain": [
       "           HHID  STARTHOUR  STARTIME  ARRHOUR  ARRTIME  CUMDIST DEPHOUR  \\\n",
       "31  Y12H0000104          7       420        8      485    41.25    16.0   \n",
       "32  Y12H0000104         16       990       17     1065    41.25     NaN   \n",
       "33  Y12H0000104          9       540        9      555     4.37     9.0   \n",
       "34  Y12H0000104          9       558        9      565     3.60     9.0   \n",
       "35  Y12H0000104          9       570        9      575     1.18    15.0   \n",
       "36  Y12H0000104         15       900       15      905     1.18    15.0   \n",
       "37  Y12H0000104         15       910       15      915     1.18     NaN   \n",
       "38  Y12H0000104          7       450        8      480    10.64    16.0   \n",
       "39  Y12H0000104         16       990       17     1020    10.64     NaN   \n",
       "\n",
       "    DEPTIME  \n",
       "31    990.0  \n",
       "32      NaN  \n",
       "33    558.0  \n",
       "34    570.0  \n",
       "35    900.0  \n",
       "36    910.0  \n",
       "37      NaN  \n",
       "38    990.0  \n",
       "39      NaN  "
      ],
      "text/html": [
       "<div>\n",
       "<style scoped>\n",
       "    .dataframe tbody tr th:only-of-type {\n",
       "        vertical-align: middle;\n",
       "    }\n",
       "\n",
       "    .dataframe tbody tr th {\n",
       "        vertical-align: top;\n",
       "    }\n",
       "\n",
       "    .dataframe thead th {\n",
       "        text-align: right;\n",
       "    }\n",
       "</style>\n",
       "<table border=\"1\" class=\"dataframe\">\n",
       "  <thead>\n",
       "    <tr style=\"text-align: right;\">\n",
       "      <th></th>\n",
       "      <th>HHID</th>\n",
       "      <th>STARTHOUR</th>\n",
       "      <th>STARTIME</th>\n",
       "      <th>ARRHOUR</th>\n",
       "      <th>ARRTIME</th>\n",
       "      <th>CUMDIST</th>\n",
       "      <th>DEPHOUR</th>\n",
       "      <th>DEPTIME</th>\n",
       "    </tr>\n",
       "  </thead>\n",
       "  <tbody>\n",
       "    <tr>\n",
       "      <th>31</th>\n",
       "      <td>Y12H0000104</td>\n",
       "      <td>7</td>\n",
       "      <td>420</td>\n",
       "      <td>8</td>\n",
       "      <td>485</td>\n",
       "      <td>41.25</td>\n",
       "      <td>16.0</td>\n",
       "      <td>990.0</td>\n",
       "    </tr>\n",
       "    <tr>\n",
       "      <th>32</th>\n",
       "      <td>Y12H0000104</td>\n",
       "      <td>16</td>\n",
       "      <td>990</td>\n",
       "      <td>17</td>\n",
       "      <td>1065</td>\n",
       "      <td>41.25</td>\n",
       "      <td>NaN</td>\n",
       "      <td>NaN</td>\n",
       "    </tr>\n",
       "    <tr>\n",
       "      <th>33</th>\n",
       "      <td>Y12H0000104</td>\n",
       "      <td>9</td>\n",
       "      <td>540</td>\n",
       "      <td>9</td>\n",
       "      <td>555</td>\n",
       "      <td>4.37</td>\n",
       "      <td>9.0</td>\n",
       "      <td>558.0</td>\n",
       "    </tr>\n",
       "    <tr>\n",
       "      <th>34</th>\n",
       "      <td>Y12H0000104</td>\n",
       "      <td>9</td>\n",
       "      <td>558</td>\n",
       "      <td>9</td>\n",
       "      <td>565</td>\n",
       "      <td>3.60</td>\n",
       "      <td>9.0</td>\n",
       "      <td>570.0</td>\n",
       "    </tr>\n",
       "    <tr>\n",
       "      <th>35</th>\n",
       "      <td>Y12H0000104</td>\n",
       "      <td>9</td>\n",
       "      <td>570</td>\n",
       "      <td>9</td>\n",
       "      <td>575</td>\n",
       "      <td>1.18</td>\n",
       "      <td>15.0</td>\n",
       "      <td>900.0</td>\n",
       "    </tr>\n",
       "    <tr>\n",
       "      <th>36</th>\n",
       "      <td>Y12H0000104</td>\n",
       "      <td>15</td>\n",
       "      <td>900</td>\n",
       "      <td>15</td>\n",
       "      <td>905</td>\n",
       "      <td>1.18</td>\n",
       "      <td>15.0</td>\n",
       "      <td>910.0</td>\n",
       "    </tr>\n",
       "    <tr>\n",
       "      <th>37</th>\n",
       "      <td>Y12H0000104</td>\n",
       "      <td>15</td>\n",
       "      <td>910</td>\n",
       "      <td>15</td>\n",
       "      <td>915</td>\n",
       "      <td>1.18</td>\n",
       "      <td>NaN</td>\n",
       "      <td>NaN</td>\n",
       "    </tr>\n",
       "    <tr>\n",
       "      <th>38</th>\n",
       "      <td>Y12H0000104</td>\n",
       "      <td>7</td>\n",
       "      <td>450</td>\n",
       "      <td>8</td>\n",
       "      <td>480</td>\n",
       "      <td>10.64</td>\n",
       "      <td>16.0</td>\n",
       "      <td>990.0</td>\n",
       "    </tr>\n",
       "    <tr>\n",
       "      <th>39</th>\n",
       "      <td>Y12H0000104</td>\n",
       "      <td>16</td>\n",
       "      <td>990</td>\n",
       "      <td>17</td>\n",
       "      <td>1020</td>\n",
       "      <td>10.64</td>\n",
       "      <td>NaN</td>\n",
       "      <td>NaN</td>\n",
       "    </tr>\n",
       "  </tbody>\n",
       "</table>\n",
       "</div>"
      ]
     },
     "execution_count": 9,
     "metadata": {},
     "output_type": "execute_result"
    }
   ],
   "execution_count": 9
  },
  {
   "metadata": {
    "ExecuteTime": {
     "end_time": "2024-11-18T00:25:02.892893Z",
     "start_time": "2024-11-18T00:25:02.871547Z"
    }
   },
   "cell_type": "code",
   "source": "df.HHID.nunique()",
   "id": "bfe1ff3ff1900f6d",
   "outputs": [
    {
     "data": {
      "text/plain": [
       "21941"
      ]
     },
     "execution_count": 10,
     "metadata": {},
     "output_type": "execute_result"
    }
   ],
   "execution_count": 10
  },
  {
   "metadata": {
    "ExecuteTime": {
     "end_time": "2024-11-18T00:35:26.715159Z",
     "start_time": "2024-11-18T00:35:26.693944Z"
    }
   },
   "cell_type": "code",
   "source": [
    "cumdist = df.CUMDIST\n",
    "cumdist.std(), cumdist.mean()"
   ],
   "id": "eeaa7a0d708fadc",
   "outputs": [
    {
     "data": {
      "text/plain": [
       "(np.float64(68.16903067214992), np.float64(10.498550238136225))"
      ]
     },
     "execution_count": 34,
     "metadata": {},
     "output_type": "execute_result"
    }
   ],
   "execution_count": 34
  },
  {
   "metadata": {
    "ExecuteTime": {
     "end_time": "2024-11-18T00:31:45.057673Z",
     "start_time": "2024-11-18T00:31:45.045863Z"
    }
   },
   "cell_type": "code",
   "source": "cumdist.dtype",
   "id": "30e11a23468adfb",
   "outputs": [
    {
     "data": {
      "text/plain": [
       "dtype('float64')"
      ]
     },
     "execution_count": 23,
     "metadata": {},
     "output_type": "execute_result"
    }
   ],
   "execution_count": 23
  },
  {
   "metadata": {
    "ExecuteTime": {
     "end_time": "2024-11-18T00:35:43.802062Z",
     "start_time": "2024-11-18T00:35:40.803447Z"
    }
   },
   "cell_type": "code",
   "source": [
    "cumdist.plot.hist(bins=10000)\n",
    "plt.xlim([0, 40])"
   ],
   "id": "982ca866271050c3",
   "outputs": [
    {
     "data": {
      "text/plain": [
       "(0.0, 40.0)"
      ]
     },
     "execution_count": 35,
     "metadata": {},
     "output_type": "execute_result"
    },
    {
     "data": {
      "text/plain": [
       "<Figure size 640x480 with 1 Axes>"
      ],
      "image/png": "[encoded data removed]"
     },
     "metadata": {},
     "output_type": "display_data"
    }
   ],
   "execution_count": 35
  },
  {
   "metadata": {},
   "cell_type": "code",
   "outputs": [],
   "execution_count": null,
   "source": "",
   "id": "cf806060c7c5f48"
  }
 ],
 "metadata": {
  "kernelspec": {
   "display_name": "Python 3",
   "language": "python",
   "name": "python3"
  },
  "language_info": {
   "codemirror_mode": {
    "name": "ipython",
    "version": 2
   },
   "file_extension": ".py",
   "mimetype": "text/x-python",
   "name": "python",
   "nbconvert_exporter": "python",
   "pygments_lexer": "ipython2",
   "version": "2.7.6"
  }
 },
 "nbformat": 4,
 "nbformat_minor": 5
}
