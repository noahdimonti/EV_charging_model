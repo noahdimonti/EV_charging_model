{
 "cells": [
  {
   "metadata": {},
   "cell_type": "markdown",
   "source": "### Variable Names Mapping",
   "id": "8589c1f0ce65fd9"
  },
  {
   "metadata": {},
   "cell_type": "markdown",
   "source": [
    "| LaTeX Symbol | Var Name in Code                 | Description                                                                 |\n",
    "|--------------|----------------------------------|-----------------------------------------------------------------------------|\n",
    "| $w_j$        | is_cp_installed                  | binary variable that indicates whether CP j is installed                    |\n",
    "| $x_{i,j}$    | is_ev_permanently_assigned_to_cp | binary variable that indicates whether EV i is permanently assigned to CP j |\n",
    "| $y_{i,j,t}$  | ev_is_connected_to_cp_j          | binary variable that indicates whether EV i is connected to CP j at time t  |\n",
    "| $n^{EV_{share}}_j$ | num_ev_per_cp | number of EVs assigned to CP j |\n"
   ],
   "id": "6862ef960c169082"
  },
  {
   "metadata": {},
   "cell_type": "code",
   "outputs": [],
   "execution_count": null,
   "source": "",
   "id": "201080957ebd9baf"
  }
 ],
 "metadata": {
  "kernelspec": {
   "display_name": "Python 3",
   "language": "python",
   "name": "python3"
  },
  "language_info": {
   "codemirror_mode": {
    "name": "ipython",
    "version": 2
   },
   "file_extension": ".py",
   "mimetype": "text/x-python",
   "name": "python",
   "nbconvert_exporter": "python",
   "pygments_lexer": "ipython2",
   "version": "2.7.6"
  }
 },
 "nbformat": 4,
 "nbformat_minor": 5
}
