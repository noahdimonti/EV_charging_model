{
 "cells": [
  {
   "metadata": {},
   "cell_type": "markdown",
   "source": "### Constraints Mapping",
   "id": "8589c1f0ce65fd9"
  },
  {
   "metadata": {},
   "cell_type": "markdown",
   "source": [
    "\\begin{equation}\n",
    "    \\sum_{i \\in \\mathcal{I}} y_{i,j,t} \\leq w_j \\;,\\quad \\forall j \\in \\mathcal{J} \\;,\\; \\forall t \\in \\mathcal{T}\n",
    "\\end{equation}"
   ],
   "id": "a43330a3665dfc"
  },
  {
   "metadata": {},
   "cell_type": "markdown",
   "source": [
    "| LaTeX Label      | Description                           | Code Name Prefix  |\n",
    "|------------------|---------------------------------------|-------------------|\n",
    "| eq:power_binary  | Binary-constrained charging power     | power_binary      |\n",
    "| eq:soc_departure | SOC min requirement at departure test | soc_min_departure |"
   ],
   "id": "fb9ae612c56b2edb"
  },
  {
   "metadata": {},
   "cell_type": "code",
   "outputs": [],
   "execution_count": null,
   "source": "",
   "id": "f802ebe4c1324e7a"
  }
 ],
 "metadata": {
  "kernelspec": {
   "display_name": "Python 3",
   "language": "python",
   "name": "python3"
  },
  "language_info": {
   "codemirror_mode": {
    "name": "ipython",
    "version": 2
   },
   "file_extension": ".py",
   "mimetype": "text/x-python",
   "name": "python",
   "nbconvert_exporter": "python",
   "pygments_lexer": "ipython2",
   "version": "2.7.6"
  }
 },
 "nbformat": 4,
 "nbformat_minor": 5
}
