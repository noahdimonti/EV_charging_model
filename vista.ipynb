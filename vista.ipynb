{
 "cells": [
  {
   "metadata": {
    "ExecuteTime": {
     "end_time": "2024-11-06T05:16:42.726992Z",
     "start_time": "2024-11-06T05:16:42.657568Z"
    }
   },
   "cell_type": "code",
   "source": [
    "import pandas as pd\n",
    "import numpy as np\n",
    "import matplotlib.pyplot as plt\n",
    "import plotly.express as px\n",
    "import plotly.graph_objects as go\n",
    "import data_cleaning as dc\n",
    "import pickle\n",
    "import os"
   ],
   "id": "b32ba3be3b1558a5",
   "outputs": [],
   "execution_count": 7
  },
  {
   "cell_type": "code",
   "id": "816ba08498fdfa0",
   "metadata": {
    "collapsed": true,
    "ExecuteTime": {
     "end_time": "2024-11-06T05:16:43.302308Z",
     "start_time": "2024-11-06T05:16:43.297174Z"
    }
   },
   "source": [
    "vista_raw_path = '/Users/noahdimonti/Documents/Uni/MPhil in Eng and CS/EV Apartment Building Project/Modelling Data/Potential Datasets/vista/T_VISTA1218_V1.csv'\n",
    "work_ev_path =  '/Users/noahdimonti/Documents/Uni/MPhil in Eng and CS/EV Apartment Building Project/Modelling Data/Potential Datasets/vista/VISTA_Time_HomeDeAr_WorkVehicle.csv'\n",
    "casual_ev_path = '/Users/noahdimonti/Documents/Uni/MPhil in Eng and CS/EV Apartment Building Project/Modelling Data/Potential Datasets/vista/VISTA_Time_HomeDeAr_CasualVehicle.csv'\n",
    "ev_model_path = '/Users/noahdimonti/Developer/PycharmProjects/EV_model_test/'"
   ],
   "outputs": [],
   "execution_count": 8
  },
  {
   "metadata": {
    "ExecuteTime": {
     "end_time": "2024-11-01T04:51:08.399066Z",
     "start_time": "2024-11-01T04:51:08.386555Z"
    }
   },
   "cell_type": "code",
   "source": [
    "casual_ev = pd.read_csv(casual_ev_path)\n",
    "casual_ev.rename(columns={'Three _2nd_ARRTIME': 'Three_2nd_ARRTIME',\n",
    "                          'Three _2nd_DEPTIME': 'Three_2nd_DEPTIME'}, inplace=True)\n",
    "casual_ev = dc.clean_raw_data(casual_ev, casual_ev.columns)\n",
    "casual_ev = dc.convert_to_timestamp(casual_ev, casual_ev.columns)\n",
    "casual_ev"
   ],
   "id": "63bbd7184cf4a372",
   "outputs": [],
   "execution_count": 3
  },
  {
   "metadata": {
    "ExecuteTime": {
     "end_time": "2024-11-01T04:53:53.943052Z",
     "start_time": "2024-11-01T04:53:53.910898Z"
    }
   },
   "cell_type": "code",
   "source": [
    "casual_ev_once = casual_ev[['Once_DEPTIME', 'Once_ARRTIME']]\n",
    "casual_ev_twice = casual_ev[['Twice_1st_DEPTIME', 'Twice_1st_ARRTIME', 'Twice_2nd_DEPTIME', 'Twice_2nd_ARRTIME']]\n",
    "casual_ev_three = casual_ev[['Three_1st_DEPTIME', 'Three_1st_ARRTIME', 'Three_2nd_DEPTIME', 'Three_2nd_ARRTIME', 'Three_3rd_DEPTIME', 'Three_3rd_ARRTIME']]\n",
    "\n",
    "casual_ev_once = dc.remove_outliers_once(casual_ev_once, 'Once_DEPTIME', 'Once_ARRTIME')\n",
    "casual_ev_twice = dc.remove_outliers_twice(casual_ev_twice)\n",
    "casual_ev_three = dc.remove_outliers_three(casual_ev_three)"
   ],
   "id": "a4be24632a537805",
   "outputs": [],
   "execution_count": 11
  },
  {
   "metadata": {
    "ExecuteTime": {
     "end_time": "2024-11-06T05:16:47.467302Z",
     "start_time": "2024-11-06T05:16:47.370668Z"
    }
   },
   "cell_type": "code",
   "source": [
    "work_ev = pd.read_csv(work_ev_path)\n",
    "work_ev = dc.clean_raw_data(work_ev, work_ev.columns)\n",
    "work_ev = dc.convert_to_timestamp(work_ev, work_ev.columns)\n",
    "work_ev = dc.remove_outliers_once(work_ev, 'DEPTIME', 'ARRTIME')\n",
    "work_ev"
   ],
   "id": "b4e343406f5571e8",
   "outputs": [
    {
     "data": {
      "text/plain": [
       "                  DEPTIME             ARRTIME\n",
       "0     2019-01-01 08:45:00 2019-01-01 17:45:00\n",
       "1     2019-01-01 05:30:00 2019-01-01 23:00:00\n",
       "2     2019-01-01 11:45:00 2019-01-01 16:15:00\n",
       "3     2019-01-01 07:00:00 2019-01-01 22:00:00\n",
       "4     2019-01-01 07:30:00 2019-01-01 17:45:00\n",
       "...                   ...                 ...\n",
       "10500 2019-01-01 08:30:00 2019-01-01 17:30:00\n",
       "10501 2019-01-01 08:30:00 2019-01-01 18:45:00\n",
       "10502 2019-01-01 07:00:00 2019-01-01 16:30:00\n",
       "10503 2019-01-01 07:00:00 2019-01-01 16:30:00\n",
       "10504 2019-01-01 07:30:00 2019-01-01 18:15:00\n",
       "\n",
       "[9822 rows x 2 columns]"
      ],
      "text/html": [
       "<div>\n",
       "<style scoped>\n",
       "    .dataframe tbody tr th:only-of-type {\n",
       "        vertical-align: middle;\n",
       "    }\n",
       "\n",
       "    .dataframe tbody tr th {\n",
       "        vertical-align: top;\n",
       "    }\n",
       "\n",
       "    .dataframe thead th {\n",
       "        text-align: right;\n",
       "    }\n",
       "</style>\n",
       "<table border=\"1\" class=\"dataframe\">\n",
       "  <thead>\n",
       "    <tr style=\"text-align: right;\">\n",
       "      <th></th>\n",
       "      <th>DEPTIME</th>\n",
       "      <th>ARRTIME</th>\n",
       "    </tr>\n",
       "  </thead>\n",
       "  <tbody>\n",
       "    <tr>\n",
       "      <th>0</th>\n",
       "      <td>2019-01-01 08:45:00</td>\n",
       "      <td>2019-01-01 17:45:00</td>\n",
       "    </tr>\n",
       "    <tr>\n",
       "      <th>1</th>\n",
       "      <td>2019-01-01 05:30:00</td>\n",
       "      <td>2019-01-01 23:00:00</td>\n",
       "    </tr>\n",
       "    <tr>\n",
       "      <th>2</th>\n",
       "      <td>2019-01-01 11:45:00</td>\n",
       "      <td>2019-01-01 16:15:00</td>\n",
       "    </tr>\n",
       "    <tr>\n",
       "      <th>3</th>\n",
       "      <td>2019-01-01 07:00:00</td>\n",
       "      <td>2019-01-01 22:00:00</td>\n",
       "    </tr>\n",
       "    <tr>\n",
       "      <th>4</th>\n",
       "      <td>2019-01-01 07:30:00</td>\n",
       "      <td>2019-01-01 17:45:00</td>\n",
       "    </tr>\n",
       "    <tr>\n",
       "      <th>...</th>\n",
       "      <td>...</td>\n",
       "      <td>...</td>\n",
       "    </tr>\n",
       "    <tr>\n",
       "      <th>10500</th>\n",
       "      <td>2019-01-01 08:30:00</td>\n",
       "      <td>2019-01-01 17:30:00</td>\n",
       "    </tr>\n",
       "    <tr>\n",
       "      <th>10501</th>\n",
       "      <td>2019-01-01 08:30:00</td>\n",
       "      <td>2019-01-01 18:45:00</td>\n",
       "    </tr>\n",
       "    <tr>\n",
       "      <th>10502</th>\n",
       "      <td>2019-01-01 07:00:00</td>\n",
       "      <td>2019-01-01 16:30:00</td>\n",
       "    </tr>\n",
       "    <tr>\n",
       "      <th>10503</th>\n",
       "      <td>2019-01-01 07:00:00</td>\n",
       "      <td>2019-01-01 16:30:00</td>\n",
       "    </tr>\n",
       "    <tr>\n",
       "      <th>10504</th>\n",
       "      <td>2019-01-01 07:30:00</td>\n",
       "      <td>2019-01-01 18:15:00</td>\n",
       "    </tr>\n",
       "  </tbody>\n",
       "</table>\n",
       "<p>9822 rows × 2 columns</p>\n",
       "</div>"
      ]
     },
     "execution_count": 9,
     "metadata": {},
     "output_type": "execute_result"
    }
   ],
   "execution_count": 9
  },
  {
   "metadata": {
    "ExecuteTime": {
     "end_time": "2024-11-06T05:18:43.398781Z",
     "start_time": "2024-11-06T05:18:43.394137Z"
    }
   },
   "cell_type": "code",
   "source": "",
   "id": "22efcd204f27bcbd",
   "outputs": [],
   "execution_count": 12
  },
  {
   "metadata": {
    "ExecuteTime": {
     "end_time": "2024-11-06T05:18:43.659616Z",
     "start_time": "2024-11-06T05:18:43.657448Z"
    }
   },
   "cell_type": "code",
   "source": "",
   "id": "69e34408b4cbdb85",
   "outputs": [],
   "execution_count": 12
  },
  {
   "metadata": {
    "ExecuteTime": {
     "end_time": "2024-11-06T05:18:46.366211Z",
     "start_time": "2024-11-06T05:18:46.360710Z"
    }
   },
   "cell_type": "code",
   "source": "",
   "id": "563bf8b5c34396b4",
   "outputs": [],
   "execution_count": 12
  },
  {
   "metadata": {
    "ExecuteTime": {
     "end_time": "2024-11-06T05:18:49.026505Z",
     "start_time": "2024-11-06T05:18:49.023680Z"
    }
   },
   "cell_type": "code",
   "source": "",
   "id": "b33cccee6723edf0",
   "outputs": [],
   "execution_count": 12
  },
  {
   "metadata": {
    "ExecuteTime": {
     "end_time": "2024-11-06T05:18:49.448400Z",
     "start_time": "2024-11-06T05:18:49.445642Z"
    }
   },
   "cell_type": "code",
   "source": "",
   "id": "4439a9084cabf2db",
   "outputs": [],
   "execution_count": 12
  },
  {
   "metadata": {},
   "cell_type": "code",
   "outputs": [],
   "execution_count": null,
   "source": "",
   "id": "466241cea1344721"
  },
  {
   "metadata": {},
   "cell_type": "code",
   "outputs": [],
   "execution_count": null,
   "source": "",
   "id": "53123a550a5a1d57"
  },
  {
   "metadata": {
    "ExecuteTime": {
     "end_time": "2024-11-06T05:16:57.538175Z",
     "start_time": "2024-11-06T05:16:57.515702Z"
    }
   },
   "cell_type": "code",
   "source": [
    "class EVData:\n",
    "    def __init__(self):\n",
    "        self.t_arr = []\n",
    "        self.timeseries = None\n",
    "\n",
    "\n",
    "def create_timeseries_at_home_pattern_once(df, dep_col: str, arr_col: str, time_resolution=15, num_of_ev=10,\n",
    "                                           start_date_time='2019-01-01 00:00:00', rand_state=0):\n",
    "\n",
    "    sample = df.sample(num_of_ev, random_state=rand_state)\n",
    "\n",
    "    ev_data = []\n",
    "    for sample_row in sample.iterrows():\n",
    "        timeseries = pd.DataFrame(pd.date_range(start=start_date_time, periods=(60/time_resolution)*24,\n",
    "                                                freq=f'{time_resolution}min'),\n",
    "\n",
    "                                  columns=['timestamp'])\n",
    "        home_status = []\n",
    "        data = EVData()\n",
    "\n",
    "        for timeseries_row in timeseries.iterrows():\n",
    "            if timeseries_row[1].timestamp < sample_row[1][f'{dep_col}']:\n",
    "                home_status.append(1)\n",
    "            elif ((timeseries_row[1].timestamp >= sample_row[1][f'{dep_col}']) &\n",
    "                  (timeseries_row[1].timestamp < sample_row[1][f'{arr_col}'])):\n",
    "                home_status.append(0)\n",
    "            elif timeseries_row[1].timestamp >= sample_row[1][f'{arr_col}']:\n",
    "                home_status.append(1)\n",
    "\n",
    "        data.t_arr.append(str(sample_row[1][f'{arr_col}']))\n",
    "\n",
    "        timeseries[f'EV_ID{sample_row[0]}'] = home_status\n",
    "        data.timeseries = timeseries\n",
    "\n",
    "        ev_data.append(data)\n",
    "\n",
    "    return ev_data, sample"
   ],
   "id": "bfb12003033c37de",
   "outputs": [],
   "execution_count": 11
  },
  {
   "metadata": {
    "ExecuteTime": {
     "end_time": "2024-11-06T05:16:57.995257Z",
     "start_time": "2024-11-06T05:16:57.944065Z"
    }
   },
   "cell_type": "code",
   "source": [
    "data, sample = create_timeseries_at_home_pattern_once(work_ev, 'DEPTIME', 'ARRTIME', num_of_ev=2)\n",
    "data[0].t_arr, data[1].t_arr, sample, data"
   ],
   "id": "e2902c20e5d0dd65",
   "outputs": [
    {
     "name": "stderr",
     "output_type": "stream",
     "text": [
      "/var/folders/5g/f459qk8s5ql55568q_c08sxr0000gn/T/ipykernel_16325/3678814824.py:14: FutureWarning: Non-integer 'periods' in pd.date_range, pd.timedelta_range, pd.period_range, and pd.interval_range are deprecated and will raise in a future version.\n",
      "  timeseries = pd.DataFrame(pd.date_range(start=start_date_time, periods=(60/time_resolution)*24,\n",
      "/var/folders/5g/f459qk8s5ql55568q_c08sxr0000gn/T/ipykernel_16325/3678814824.py:14: FutureWarning: Non-integer 'periods' in pd.date_range, pd.timedelta_range, pd.period_range, and pd.interval_range are deprecated and will raise in a future version.\n",
      "  timeseries = pd.DataFrame(pd.date_range(start=start_date_time, periods=(60/time_resolution)*24,\n"
     ]
    },
    {
     "data": {
      "text/plain": [
       "(['2019-01-01 18:00:00'],\n",
       " ['2019-01-01 16:00:00'],\n",
       "                  DEPTIME             ARRTIME\n",
       " 4072 2019-01-01 14:00:00 2019-01-01 18:00:00\n",
       " 7090 2019-01-01 08:00:00 2019-01-01 16:00:00,\n",
       " [<__main__.EVData at 0x10bca5400>, <__main__.EVData at 0x10c4a5a30>])"
      ]
     },
     "execution_count": 12,
     "metadata": {},
     "output_type": "execute_result"
    }
   ],
   "execution_count": 12
  },
  {
   "metadata": {
    "ExecuteTime": {
     "end_time": "2024-11-06T03:57:37.200050Z",
     "start_time": "2024-11-06T03:57:37.120283Z"
    }
   },
   "cell_type": "code",
   "source": [
    "file_name = 'ev.pkl'\n",
    "file_path = os.path.join(ev_model_path, file_name)\n",
    "print(file_path)"
   ],
   "id": "fb61d0acb12c5d03",
   "outputs": [
    {
     "name": "stdout",
     "output_type": "stream",
     "text": [
      "/Users/noahdimonti/Developer/PycharmProjects/EV_model_test/ev.pkl\n"
     ]
    }
   ],
   "execution_count": 13
  },
  {
   "metadata": {
    "ExecuteTime": {
     "end_time": "2024-11-06T03:57:38.315184Z",
     "start_time": "2024-11-06T03:57:38.282888Z"
    }
   },
   "cell_type": "code",
   "source": [
    "with open(file_path, 'wb') as f:\n",
    "    pickle.dump(ev, f)"
   ],
   "id": "f980a139f02331bc",
   "outputs": [],
   "execution_count": 14
  },
  {
   "metadata": {},
   "cell_type": "code",
   "outputs": [],
   "execution_count": null,
   "source": "",
   "id": "4261cb32a603d1"
  },
  {
   "metadata": {},
   "cell_type": "code",
   "outputs": [],
   "execution_count": null,
   "source": "",
   "id": "dbfcb0cce8efd87d"
  },
  {
   "metadata": {},
   "cell_type": "code",
   "outputs": [],
   "execution_count": 3,
   "source": "work_ev = dc.remove_outliers_once(work_ev, 'DEPTIME', 'ARRTIME')",
   "id": "f3171c0ef458b26f"
  },
  {
   "metadata": {
    "ExecuteTime": {
     "end_time": "2024-11-04T02:51:23.516140Z",
     "start_time": "2024-11-04T02:51:23.499629Z"
    }
   },
   "cell_type": "code",
   "source": "work_ev_1 = dc.create_timeseries_at_home_pattern_once(work_ev, 'DEPTIME', 'ARRTIME', num_of_ev=2, rand_state=0)",
   "id": "afbc1c98af9d1b49",
   "outputs": [],
   "execution_count": 4
  },
  {
   "metadata": {
    "ExecuteTime": {
     "end_time": "2024-11-04T03:04:04.371694Z",
     "start_time": "2024-11-04T03:04:04.345646Z"
    }
   },
   "cell_type": "code",
   "source": [
    "work_ev_1.rename(columns={'EV_ID4072': 'EV_1', 'EV_ID7090': 'EV_2'}, inplace=True)\n",
    "work_ev_1"
   ],
   "id": "27e5c8cab3af0b0c",
   "outputs": [
    {
     "data": {
      "text/plain": [
       "             timestamp  EV_1  EV_2\n",
       "0  2019-01-01 00:00:00     1     1\n",
       "1  2019-01-01 00:15:00     1     1\n",
       "2  2019-01-01 00:30:00     1     1\n",
       "3  2019-01-01 00:45:00     1     1\n",
       "4  2019-01-01 01:00:00     1     1\n",
       "..                 ...   ...   ...\n",
       "91 2019-01-01 22:45:00     1     1\n",
       "92 2019-01-01 23:00:00     1     1\n",
       "93 2019-01-01 23:15:00     1     1\n",
       "94 2019-01-01 23:30:00     1     1\n",
       "95 2019-01-01 23:45:00     1     1\n",
       "\n",
       "[96 rows x 3 columns]"
      ],
      "text/html": [
       "<div>\n",
       "<style scoped>\n",
       "    .dataframe tbody tr th:only-of-type {\n",
       "        vertical-align: middle;\n",
       "    }\n",
       "\n",
       "    .dataframe tbody tr th {\n",
       "        vertical-align: top;\n",
       "    }\n",
       "\n",
       "    .dataframe thead th {\n",
       "        text-align: right;\n",
       "    }\n",
       "</style>\n",
       "<table border=\"1\" class=\"dataframe\">\n",
       "  <thead>\n",
       "    <tr style=\"text-align: right;\">\n",
       "      <th></th>\n",
       "      <th>timestamp</th>\n",
       "      <th>EV_1</th>\n",
       "      <th>EV_2</th>\n",
       "    </tr>\n",
       "  </thead>\n",
       "  <tbody>\n",
       "    <tr>\n",
       "      <th>0</th>\n",
       "      <td>2019-01-01 00:00:00</td>\n",
       "      <td>1</td>\n",
       "      <td>1</td>\n",
       "    </tr>\n",
       "    <tr>\n",
       "      <th>1</th>\n",
       "      <td>2019-01-01 00:15:00</td>\n",
       "      <td>1</td>\n",
       "      <td>1</td>\n",
       "    </tr>\n",
       "    <tr>\n",
       "      <th>2</th>\n",
       "      <td>2019-01-01 00:30:00</td>\n",
       "      <td>1</td>\n",
       "      <td>1</td>\n",
       "    </tr>\n",
       "    <tr>\n",
       "      <th>3</th>\n",
       "      <td>2019-01-01 00:45:00</td>\n",
       "      <td>1</td>\n",
       "      <td>1</td>\n",
       "    </tr>\n",
       "    <tr>\n",
       "      <th>4</th>\n",
       "      <td>2019-01-01 01:00:00</td>\n",
       "      <td>1</td>\n",
       "      <td>1</td>\n",
       "    </tr>\n",
       "    <tr>\n",
       "      <th>...</th>\n",
       "      <td>...</td>\n",
       "      <td>...</td>\n",
       "      <td>...</td>\n",
       "    </tr>\n",
       "    <tr>\n",
       "      <th>91</th>\n",
       "      <td>2019-01-01 22:45:00</td>\n",
       "      <td>1</td>\n",
       "      <td>1</td>\n",
       "    </tr>\n",
       "    <tr>\n",
       "      <th>92</th>\n",
       "      <td>2019-01-01 23:00:00</td>\n",
       "      <td>1</td>\n",
       "      <td>1</td>\n",
       "    </tr>\n",
       "    <tr>\n",
       "      <th>93</th>\n",
       "      <td>2019-01-01 23:15:00</td>\n",
       "      <td>1</td>\n",
       "      <td>1</td>\n",
       "    </tr>\n",
       "    <tr>\n",
       "      <th>94</th>\n",
       "      <td>2019-01-01 23:30:00</td>\n",
       "      <td>1</td>\n",
       "      <td>1</td>\n",
       "    </tr>\n",
       "    <tr>\n",
       "      <th>95</th>\n",
       "      <td>2019-01-01 23:45:00</td>\n",
       "      <td>1</td>\n",
       "      <td>1</td>\n",
       "    </tr>\n",
       "  </tbody>\n",
       "</table>\n",
       "<p>96 rows × 3 columns</p>\n",
       "</div>"
      ]
     },
     "execution_count": 19,
     "metadata": {},
     "output_type": "execute_result"
    }
   ],
   "execution_count": 19
  },
  {
   "metadata": {
    "ExecuteTime": {
     "end_time": "2024-11-04T02:51:57.665604Z",
     "start_time": "2024-11-04T02:51:57.638210Z"
    }
   },
   "cell_type": "code",
   "source": "work_ev_2 = dc.create_timeseries_at_home_pattern_once(work_ev, 'DEPTIME', 'ARRTIME', num_of_ev=2, rand_state=1)",
   "id": "47cc2173b4b11db8",
   "outputs": [],
   "execution_count": 6
  },
  {
   "metadata": {
    "ExecuteTime": {
     "end_time": "2024-11-04T03:04:10.168361Z",
     "start_time": "2024-11-04T03:04:10.151929Z"
    }
   },
   "cell_type": "code",
   "source": [
    "work_ev_2.timestamp = pd.date_range(start='2019-01-02 00:00:00', periods=96, freq='15min')\n",
    "work_ev_2.rename(columns={'EV_ID5873': 'EV_1', 'EV_ID7108': 'EV_2'}, inplace=True)\n",
    "work_ev_2"
   ],
   "id": "881ce4f8f6261e95",
   "outputs": [
    {
     "data": {
      "text/plain": [
       "             timestamp  EV_1  EV_2\n",
       "0  2019-01-02 00:00:00     1     1\n",
       "1  2019-01-02 00:15:00     1     1\n",
       "2  2019-01-02 00:30:00     1     1\n",
       "3  2019-01-02 00:45:00     1     1\n",
       "4  2019-01-02 01:00:00     1     1\n",
       "..                 ...   ...   ...\n",
       "91 2019-01-02 22:45:00     1     1\n",
       "92 2019-01-02 23:00:00     1     1\n",
       "93 2019-01-02 23:15:00     1     1\n",
       "94 2019-01-02 23:30:00     1     1\n",
       "95 2019-01-02 23:45:00     1     1\n",
       "\n",
       "[96 rows x 3 columns]"
      ],
      "text/html": [
       "<div>\n",
       "<style scoped>\n",
       "    .dataframe tbody tr th:only-of-type {\n",
       "        vertical-align: middle;\n",
       "    }\n",
       "\n",
       "    .dataframe tbody tr th {\n",
       "        vertical-align: top;\n",
       "    }\n",
       "\n",
       "    .dataframe thead th {\n",
       "        text-align: right;\n",
       "    }\n",
       "</style>\n",
       "<table border=\"1\" class=\"dataframe\">\n",
       "  <thead>\n",
       "    <tr style=\"text-align: right;\">\n",
       "      <th></th>\n",
       "      <th>timestamp</th>\n",
       "      <th>EV_1</th>\n",
       "      <th>EV_2</th>\n",
       "    </tr>\n",
       "  </thead>\n",
       "  <tbody>\n",
       "    <tr>\n",
       "      <th>0</th>\n",
       "      <td>2019-01-02 00:00:00</td>\n",
       "      <td>1</td>\n",
       "      <td>1</td>\n",
       "    </tr>\n",
       "    <tr>\n",
       "      <th>1</th>\n",
       "      <td>2019-01-02 00:15:00</td>\n",
       "      <td>1</td>\n",
       "      <td>1</td>\n",
       "    </tr>\n",
       "    <tr>\n",
       "      <th>2</th>\n",
       "      <td>2019-01-02 00:30:00</td>\n",
       "      <td>1</td>\n",
       "      <td>1</td>\n",
       "    </tr>\n",
       "    <tr>\n",
       "      <th>3</th>\n",
       "      <td>2019-01-02 00:45:00</td>\n",
       "      <td>1</td>\n",
       "      <td>1</td>\n",
       "    </tr>\n",
       "    <tr>\n",
       "      <th>4</th>\n",
       "      <td>2019-01-02 01:00:00</td>\n",
       "      <td>1</td>\n",
       "      <td>1</td>\n",
       "    </tr>\n",
       "    <tr>\n",
       "      <th>...</th>\n",
       "      <td>...</td>\n",
       "      <td>...</td>\n",
       "      <td>...</td>\n",
       "    </tr>\n",
       "    <tr>\n",
       "      <th>91</th>\n",
       "      <td>2019-01-02 22:45:00</td>\n",
       "      <td>1</td>\n",
       "      <td>1</td>\n",
       "    </tr>\n",
       "    <tr>\n",
       "      <th>92</th>\n",
       "      <td>2019-01-02 23:00:00</td>\n",
       "      <td>1</td>\n",
       "      <td>1</td>\n",
       "    </tr>\n",
       "    <tr>\n",
       "      <th>93</th>\n",
       "      <td>2019-01-02 23:15:00</td>\n",
       "      <td>1</td>\n",
       "      <td>1</td>\n",
       "    </tr>\n",
       "    <tr>\n",
       "      <th>94</th>\n",
       "      <td>2019-01-02 23:30:00</td>\n",
       "      <td>1</td>\n",
       "      <td>1</td>\n",
       "    </tr>\n",
       "    <tr>\n",
       "      <th>95</th>\n",
       "      <td>2019-01-02 23:45:00</td>\n",
       "      <td>1</td>\n",
       "      <td>1</td>\n",
       "    </tr>\n",
       "  </tbody>\n",
       "</table>\n",
       "<p>96 rows × 3 columns</p>\n",
       "</div>"
      ]
     },
     "execution_count": 20,
     "metadata": {},
     "output_type": "execute_result"
    }
   ],
   "execution_count": 20
  },
  {
   "metadata": {
    "ExecuteTime": {
     "end_time": "2024-11-04T03:07:14.377150Z",
     "start_time": "2024-11-04T03:07:14.334160Z"
    }
   },
   "cell_type": "code",
   "source": [
    "merged = pd.concat([work_ev_1, work_ev_2])\n",
    "merged.set_index('timestamp', inplace=True)\n",
    "merged"
   ],
   "id": "ea5bbfe9da31f19",
   "outputs": [
    {
     "data": {
      "text/plain": [
       "                     EV_1  EV_2\n",
       "timestamp                      \n",
       "2019-01-01 00:00:00     1     1\n",
       "2019-01-01 00:15:00     1     1\n",
       "2019-01-01 00:30:00     1     1\n",
       "2019-01-01 00:45:00     1     1\n",
       "2019-01-01 01:00:00     1     1\n",
       "...                   ...   ...\n",
       "2019-01-02 22:45:00     1     1\n",
       "2019-01-02 23:00:00     1     1\n",
       "2019-01-02 23:15:00     1     1\n",
       "2019-01-02 23:30:00     1     1\n",
       "2019-01-02 23:45:00     1     1\n",
       "\n",
       "[192 rows x 2 columns]"
      ],
      "text/html": [
       "<div>\n",
       "<style scoped>\n",
       "    .dataframe tbody tr th:only-of-type {\n",
       "        vertical-align: middle;\n",
       "    }\n",
       "\n",
       "    .dataframe tbody tr th {\n",
       "        vertical-align: top;\n",
       "    }\n",
       "\n",
       "    .dataframe thead th {\n",
       "        text-align: right;\n",
       "    }\n",
       "</style>\n",
       "<table border=\"1\" class=\"dataframe\">\n",
       "  <thead>\n",
       "    <tr style=\"text-align: right;\">\n",
       "      <th></th>\n",
       "      <th>EV_1</th>\n",
       "      <th>EV_2</th>\n",
       "    </tr>\n",
       "    <tr>\n",
       "      <th>timestamp</th>\n",
       "      <th></th>\n",
       "      <th></th>\n",
       "    </tr>\n",
       "  </thead>\n",
       "  <tbody>\n",
       "    <tr>\n",
       "      <th>2019-01-01 00:00:00</th>\n",
       "      <td>1</td>\n",
       "      <td>1</td>\n",
       "    </tr>\n",
       "    <tr>\n",
       "      <th>2019-01-01 00:15:00</th>\n",
       "      <td>1</td>\n",
       "      <td>1</td>\n",
       "    </tr>\n",
       "    <tr>\n",
       "      <th>2019-01-01 00:30:00</th>\n",
       "      <td>1</td>\n",
       "      <td>1</td>\n",
       "    </tr>\n",
       "    <tr>\n",
       "      <th>2019-01-01 00:45:00</th>\n",
       "      <td>1</td>\n",
       "      <td>1</td>\n",
       "    </tr>\n",
       "    <tr>\n",
       "      <th>2019-01-01 01:00:00</th>\n",
       "      <td>1</td>\n",
       "      <td>1</td>\n",
       "    </tr>\n",
       "    <tr>\n",
       "      <th>...</th>\n",
       "      <td>...</td>\n",
       "      <td>...</td>\n",
       "    </tr>\n",
       "    <tr>\n",
       "      <th>2019-01-02 22:45:00</th>\n",
       "      <td>1</td>\n",
       "      <td>1</td>\n",
       "    </tr>\n",
       "    <tr>\n",
       "      <th>2019-01-02 23:00:00</th>\n",
       "      <td>1</td>\n",
       "      <td>1</td>\n",
       "    </tr>\n",
       "    <tr>\n",
       "      <th>2019-01-02 23:15:00</th>\n",
       "      <td>1</td>\n",
       "      <td>1</td>\n",
       "    </tr>\n",
       "    <tr>\n",
       "      <th>2019-01-02 23:30:00</th>\n",
       "      <td>1</td>\n",
       "      <td>1</td>\n",
       "    </tr>\n",
       "    <tr>\n",
       "      <th>2019-01-02 23:45:00</th>\n",
       "      <td>1</td>\n",
       "      <td>1</td>\n",
       "    </tr>\n",
       "  </tbody>\n",
       "</table>\n",
       "<p>192 rows × 2 columns</p>\n",
       "</div>"
      ]
     },
     "execution_count": 23,
     "metadata": {},
     "output_type": "execute_result"
    }
   ],
   "execution_count": 23
  },
  {
   "metadata": {
    "ExecuteTime": {
     "end_time": "2024-11-04T03:07:17.427243Z",
     "start_time": "2024-11-04T03:07:17.415732Z"
    }
   },
   "cell_type": "code",
   "source": "merged.to_csv('/Users/noahdimonti/Developer/PycharmProjects/EV_model_test/ev_profile_2_days.csv')",
   "id": "61bd2e48d744bb71",
   "outputs": [],
   "execution_count": 24
  },
  {
   "metadata": {
    "ExecuteTime": {
     "end_time": "2024-11-01T08:02:42.637243Z",
     "start_time": "2024-11-01T08:02:42.603707Z"
    }
   },
   "cell_type": "code",
   "source": [
    "work_ev_sample = work_ev[work_ev.columns[:3]]\n",
    "work_ev_sample.set_index('timestamp', inplace=True)\n",
    "work_ev_sample"
   ],
   "id": "b5b8a543029c0a98",
   "outputs": [
    {
     "data": {
      "text/plain": [
       "                     EV_ID4072  EV_ID7090\n",
       "timestamp                                \n",
       "2019-01-01 00:00:00          1          1\n",
       "2019-01-01 00:15:00          1          1\n",
       "2019-01-01 00:30:00          1          1\n",
       "2019-01-01 00:45:00          1          1\n",
       "2019-01-01 01:00:00          1          1\n",
       "...                        ...        ...\n",
       "2019-01-01 22:45:00          1          1\n",
       "2019-01-01 23:00:00          1          1\n",
       "2019-01-01 23:15:00          1          1\n",
       "2019-01-01 23:30:00          1          1\n",
       "2019-01-01 23:45:00          1          1\n",
       "\n",
       "[96 rows x 2 columns]"
      ],
      "text/html": [
       "<div>\n",
       "<style scoped>\n",
       "    .dataframe tbody tr th:only-of-type {\n",
       "        vertical-align: middle;\n",
       "    }\n",
       "\n",
       "    .dataframe tbody tr th {\n",
       "        vertical-align: top;\n",
       "    }\n",
       "\n",
       "    .dataframe thead th {\n",
       "        text-align: right;\n",
       "    }\n",
       "</style>\n",
       "<table border=\"1\" class=\"dataframe\">\n",
       "  <thead>\n",
       "    <tr style=\"text-align: right;\">\n",
       "      <th></th>\n",
       "      <th>EV_ID4072</th>\n",
       "      <th>EV_ID7090</th>\n",
       "    </tr>\n",
       "    <tr>\n",
       "      <th>timestamp</th>\n",
       "      <th></th>\n",
       "      <th></th>\n",
       "    </tr>\n",
       "  </thead>\n",
       "  <tbody>\n",
       "    <tr>\n",
       "      <th>2019-01-01 00:00:00</th>\n",
       "      <td>1</td>\n",
       "      <td>1</td>\n",
       "    </tr>\n",
       "    <tr>\n",
       "      <th>2019-01-01 00:15:00</th>\n",
       "      <td>1</td>\n",
       "      <td>1</td>\n",
       "    </tr>\n",
       "    <tr>\n",
       "      <th>2019-01-01 00:30:00</th>\n",
       "      <td>1</td>\n",
       "      <td>1</td>\n",
       "    </tr>\n",
       "    <tr>\n",
       "      <th>2019-01-01 00:45:00</th>\n",
       "      <td>1</td>\n",
       "      <td>1</td>\n",
       "    </tr>\n",
       "    <tr>\n",
       "      <th>2019-01-01 01:00:00</th>\n",
       "      <td>1</td>\n",
       "      <td>1</td>\n",
       "    </tr>\n",
       "    <tr>\n",
       "      <th>...</th>\n",
       "      <td>...</td>\n",
       "      <td>...</td>\n",
       "    </tr>\n",
       "    <tr>\n",
       "      <th>2019-01-01 22:45:00</th>\n",
       "      <td>1</td>\n",
       "      <td>1</td>\n",
       "    </tr>\n",
       "    <tr>\n",
       "      <th>2019-01-01 23:00:00</th>\n",
       "      <td>1</td>\n",
       "      <td>1</td>\n",
       "    </tr>\n",
       "    <tr>\n",
       "      <th>2019-01-01 23:15:00</th>\n",
       "      <td>1</td>\n",
       "      <td>1</td>\n",
       "    </tr>\n",
       "    <tr>\n",
       "      <th>2019-01-01 23:30:00</th>\n",
       "      <td>1</td>\n",
       "      <td>1</td>\n",
       "    </tr>\n",
       "    <tr>\n",
       "      <th>2019-01-01 23:45:00</th>\n",
       "      <td>1</td>\n",
       "      <td>1</td>\n",
       "    </tr>\n",
       "  </tbody>\n",
       "</table>\n",
       "<p>96 rows × 2 columns</p>\n",
       "</div>"
      ]
     },
     "execution_count": 29,
     "metadata": {},
     "output_type": "execute_result"
    }
   ],
   "execution_count": 29
  },
  {
   "metadata": {
    "ExecuteTime": {
     "end_time": "2024-11-01T08:02:58.290731Z",
     "start_time": "2024-11-01T08:02:58.262662Z"
    }
   },
   "cell_type": "code",
   "source": "work_ev_sample.to_csv('/Users/noahdimonti/Developer/PycharmProjects/EV_model_test/ev_profile.csv')",
   "id": "632c9d9fa2debab5",
   "outputs": [],
   "execution_count": 30
  },
  {
   "metadata": {},
   "cell_type": "code",
   "outputs": [],
   "execution_count": null,
   "source": "",
   "id": "96493843ddebe79c"
  }
 ],
 "metadata": {
  "kernelspec": {
   "display_name": "Python 3",
   "language": "python",
   "name": "python3"
  },
  "language_info": {
   "codemirror_mode": {
    "name": "ipython",
    "version": 2
   },
   "file_extension": ".py",
   "mimetype": "text/x-python",
   "name": "python",
   "nbconvert_exporter": "python",
   "pygments_lexer": "ipython2",
   "version": "2.7.6"
  }
 },
 "nbformat": 4,
 "nbformat_minor": 5
}
